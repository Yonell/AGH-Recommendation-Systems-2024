{
 "cells": [
  {
   "cell_type": "markdown",
   "metadata": {},
   "source": [
    "# Laboratorium 5 - rekomendacje grupowe\n",
    "\n",
    "## Przygotowanie\n",
    "\n",
    " * pobierz i wypakuj dataset: https://files.grouplens.org/datasets/movielens/ml-latest-small.zip\n",
    "   * więcej możesz poczytać tutaj: https://grouplens.org/datasets/movielens/\n",
    " * [opcjonalnie] Utwórz wirtualne środowisko\n",
    " `python3 -m venv ./recsyslab5`\n",
    " * zainstaluj potrzebne biblioteki:\n",
    " `pip install numpy pandas scipy matplotlib`"
   ]
  },
  {
   "cell_type": "markdown",
   "metadata": {},
   "source": [
    "## Część 1. - przygotowanie danych"
   ]
  },
  {
   "cell_type": "code",
   "execution_count": 55,
   "metadata": {
    "ExecuteTime": {
     "end_time": "2024-11-20T11:08:44.135126Z",
     "start_time": "2024-11-20T11:08:44.132115Z"
    }
   },
   "outputs": [],
   "source": [
    "# importujemy wszystkie potrzebne pakiety\n",
    "\n",
    "import math\n",
    "import numpy as np\n",
    "import pandas as pd\n",
    "from scipy.sparse.linalg import svds\n",
    "\n",
    "\n",
    "from random import choice, sample\n",
    "from statistics import mean, stdev"
   ]
  },
  {
   "cell_type": "code",
   "execution_count": 56,
   "metadata": {
    "ExecuteTime": {
     "end_time": "2024-11-20T11:08:44.162732Z",
     "start_time": "2024-11-20T11:08:44.160725Z"
    }
   },
   "outputs": [],
   "source": [
    "PATH = 'ml-latest-small'"
   ]
  },
  {
   "cell_type": "code",
   "execution_count": 57,
   "metadata": {
    "ExecuteTime": {
     "end_time": "2024-11-20T11:08:46.512833Z",
     "start_time": "2024-11-20T11:08:44.163736Z"
    }
   },
   "outputs": [
    {
     "name": "stdout",
     "output_type": "stream",
     "text": [
      "Got 100836 reviews for 9724 movies and 610 users.\n",
      "Reviews prediction mean square error = 1.657778784292435e-05\n",
      "Reviews prediction standatd deviation of square error = 0.0007928950536518243\n",
      "Stats (for raings in original range [0.5, 5.0]):\n",
      "('metric', 'dataset', 'prediction')\n",
      "('avg', np.float64(3.501556983616962), np.float64(3.657222337747399))\n",
      "('st_dev', np.float64(1.042524069618056), np.float64(0.49546237560971024))\n",
      "('median', np.float64(3.5), np.float64(3.705224008811769))\n",
      "('p25', np.float64(3.0), np.float64(3.357451718316403))\n",
      "('p75', np.float64(4.0), np.float64(3.999981626883001))\n"
     ]
    },
    {
     "data": {
      "text/plain": "     1       2       3       4       5       6       7       8       9       \\\n1       8.0     9.0     8.0     9.0     9.0     8.0     9.0     9.0     9.0   \n2       8.0     8.0     8.0     8.0     8.0     8.0     8.0     8.0     8.0   \n3       5.0     5.0     5.0     5.0     5.0     5.0     5.0     5.0     5.0   \n4       7.0     7.0     7.0     7.0     7.0     7.0     7.0     7.0     7.0   \n5       8.0     7.0     7.0     7.0     7.0     7.0     7.0     7.0     7.0   \n..      ...     ...     ...     ...     ...     ...     ...     ...     ...   \n606     5.0     7.0     7.0     7.0     7.0     7.0     5.0     7.0     7.0   \n607     8.0     8.0     8.0     8.0     8.0     8.0     8.0     8.0     8.0   \n608     5.0     4.0     4.0     6.0     6.0     6.0     6.0     6.0     6.0   \n609     6.0     7.0     7.0     7.0     7.0     7.0     7.0     7.0     7.0   \n610    10.0     7.0     7.0     7.0     7.0    10.0     7.0     7.0     7.0   \n\n     10      ...  193565  193567  193571  193573  193579  193581  193583  \\\n1       9.0  ...     9.0     9.0     9.0     9.0     9.0     9.0     9.0   \n2       8.0  ...     8.0     8.0     8.0     8.0     8.0     8.0     8.0   \n3       5.0  ...     5.0     5.0     5.0     5.0     5.0     5.0     5.0   \n4       7.0  ...     7.0     7.0     7.0     7.0     7.0     7.0     7.0   \n5       7.0  ...     7.0     7.0     7.0     7.0     7.0     7.0     7.0   \n..      ...  ...     ...     ...     ...     ...     ...     ...     ...   \n606     7.0  ...     7.0     7.0     7.0     7.0     7.0     7.0     7.0   \n607     8.0  ...     8.0     8.0     8.0     8.0     8.0     8.0     8.0   \n608     8.0  ...     6.0     6.0     6.0     6.0     6.0     6.0     6.0   \n609     8.0  ...     7.0     7.0     7.0     7.0     7.0     7.0     7.0   \n610     7.0  ...     7.0     7.0     7.0     7.0     7.0     7.0     7.0   \n\n     193585  193587  193609  \n1       9.0     9.0     9.0  \n2       8.0     8.0     8.0  \n3       5.0     5.0     5.0  \n4       7.0     7.0     7.0  \n5       7.0     7.0     7.0  \n..      ...     ...     ...  \n606     7.0     7.0     7.0  \n607     8.0     8.0     8.0  \n608     6.0     6.0     6.0  \n609     7.0     7.0     7.0  \n610     7.0     7.0     7.0  \n\n[610 rows x 9724 columns]",
      "text/html": "<div>\n<style scoped>\n    .dataframe tbody tr th:only-of-type {\n        vertical-align: middle;\n    }\n\n    .dataframe tbody tr th {\n        vertical-align: top;\n    }\n\n    .dataframe thead th {\n        text-align: right;\n    }\n</style>\n<table border=\"1\" class=\"dataframe\">\n  <thead>\n    <tr style=\"text-align: right;\">\n      <th></th>\n      <th>1</th>\n      <th>2</th>\n      <th>3</th>\n      <th>4</th>\n      <th>5</th>\n      <th>6</th>\n      <th>7</th>\n      <th>8</th>\n      <th>9</th>\n      <th>10</th>\n      <th>...</th>\n      <th>193565</th>\n      <th>193567</th>\n      <th>193571</th>\n      <th>193573</th>\n      <th>193579</th>\n      <th>193581</th>\n      <th>193583</th>\n      <th>193585</th>\n      <th>193587</th>\n      <th>193609</th>\n    </tr>\n  </thead>\n  <tbody>\n    <tr>\n      <th>1</th>\n      <td>8.0</td>\n      <td>9.0</td>\n      <td>8.0</td>\n      <td>9.0</td>\n      <td>9.0</td>\n      <td>8.0</td>\n      <td>9.0</td>\n      <td>9.0</td>\n      <td>9.0</td>\n      <td>9.0</td>\n      <td>...</td>\n      <td>9.0</td>\n      <td>9.0</td>\n      <td>9.0</td>\n      <td>9.0</td>\n      <td>9.0</td>\n      <td>9.0</td>\n      <td>9.0</td>\n      <td>9.0</td>\n      <td>9.0</td>\n      <td>9.0</td>\n    </tr>\n    <tr>\n      <th>2</th>\n      <td>8.0</td>\n      <td>8.0</td>\n      <td>8.0</td>\n      <td>8.0</td>\n      <td>8.0</td>\n      <td>8.0</td>\n      <td>8.0</td>\n      <td>8.0</td>\n      <td>8.0</td>\n      <td>8.0</td>\n      <td>...</td>\n      <td>8.0</td>\n      <td>8.0</td>\n      <td>8.0</td>\n      <td>8.0</td>\n      <td>8.0</td>\n      <td>8.0</td>\n      <td>8.0</td>\n      <td>8.0</td>\n      <td>8.0</td>\n      <td>8.0</td>\n    </tr>\n    <tr>\n      <th>3</th>\n      <td>5.0</td>\n      <td>5.0</td>\n      <td>5.0</td>\n      <td>5.0</td>\n      <td>5.0</td>\n      <td>5.0</td>\n      <td>5.0</td>\n      <td>5.0</td>\n      <td>5.0</td>\n      <td>5.0</td>\n      <td>...</td>\n      <td>5.0</td>\n      <td>5.0</td>\n      <td>5.0</td>\n      <td>5.0</td>\n      <td>5.0</td>\n      <td>5.0</td>\n      <td>5.0</td>\n      <td>5.0</td>\n      <td>5.0</td>\n      <td>5.0</td>\n    </tr>\n    <tr>\n      <th>4</th>\n      <td>7.0</td>\n      <td>7.0</td>\n      <td>7.0</td>\n      <td>7.0</td>\n      <td>7.0</td>\n      <td>7.0</td>\n      <td>7.0</td>\n      <td>7.0</td>\n      <td>7.0</td>\n      <td>7.0</td>\n      <td>...</td>\n      <td>7.0</td>\n      <td>7.0</td>\n      <td>7.0</td>\n      <td>7.0</td>\n      <td>7.0</td>\n      <td>7.0</td>\n      <td>7.0</td>\n      <td>7.0</td>\n      <td>7.0</td>\n      <td>7.0</td>\n    </tr>\n    <tr>\n      <th>5</th>\n      <td>8.0</td>\n      <td>7.0</td>\n      <td>7.0</td>\n      <td>7.0</td>\n      <td>7.0</td>\n      <td>7.0</td>\n      <td>7.0</td>\n      <td>7.0</td>\n      <td>7.0</td>\n      <td>7.0</td>\n      <td>...</td>\n      <td>7.0</td>\n      <td>7.0</td>\n      <td>7.0</td>\n      <td>7.0</td>\n      <td>7.0</td>\n      <td>7.0</td>\n      <td>7.0</td>\n      <td>7.0</td>\n      <td>7.0</td>\n      <td>7.0</td>\n    </tr>\n    <tr>\n      <th>...</th>\n      <td>...</td>\n      <td>...</td>\n      <td>...</td>\n      <td>...</td>\n      <td>...</td>\n      <td>...</td>\n      <td>...</td>\n      <td>...</td>\n      <td>...</td>\n      <td>...</td>\n      <td>...</td>\n      <td>...</td>\n      <td>...</td>\n      <td>...</td>\n      <td>...</td>\n      <td>...</td>\n      <td>...</td>\n      <td>...</td>\n      <td>...</td>\n      <td>...</td>\n      <td>...</td>\n    </tr>\n    <tr>\n      <th>606</th>\n      <td>5.0</td>\n      <td>7.0</td>\n      <td>7.0</td>\n      <td>7.0</td>\n      <td>7.0</td>\n      <td>7.0</td>\n      <td>5.0</td>\n      <td>7.0</td>\n      <td>7.0</td>\n      <td>7.0</td>\n      <td>...</td>\n      <td>7.0</td>\n      <td>7.0</td>\n      <td>7.0</td>\n      <td>7.0</td>\n      <td>7.0</td>\n      <td>7.0</td>\n      <td>7.0</td>\n      <td>7.0</td>\n      <td>7.0</td>\n      <td>7.0</td>\n    </tr>\n    <tr>\n      <th>607</th>\n      <td>8.0</td>\n      <td>8.0</td>\n      <td>8.0</td>\n      <td>8.0</td>\n      <td>8.0</td>\n      <td>8.0</td>\n      <td>8.0</td>\n      <td>8.0</td>\n      <td>8.0</td>\n      <td>8.0</td>\n      <td>...</td>\n      <td>8.0</td>\n      <td>8.0</td>\n      <td>8.0</td>\n      <td>8.0</td>\n      <td>8.0</td>\n      <td>8.0</td>\n      <td>8.0</td>\n      <td>8.0</td>\n      <td>8.0</td>\n      <td>8.0</td>\n    </tr>\n    <tr>\n      <th>608</th>\n      <td>5.0</td>\n      <td>4.0</td>\n      <td>4.0</td>\n      <td>6.0</td>\n      <td>6.0</td>\n      <td>6.0</td>\n      <td>6.0</td>\n      <td>6.0</td>\n      <td>6.0</td>\n      <td>8.0</td>\n      <td>...</td>\n      <td>6.0</td>\n      <td>6.0</td>\n      <td>6.0</td>\n      <td>6.0</td>\n      <td>6.0</td>\n      <td>6.0</td>\n      <td>6.0</td>\n      <td>6.0</td>\n      <td>6.0</td>\n      <td>6.0</td>\n    </tr>\n    <tr>\n      <th>609</th>\n      <td>6.0</td>\n      <td>7.0</td>\n      <td>7.0</td>\n      <td>7.0</td>\n      <td>7.0</td>\n      <td>7.0</td>\n      <td>7.0</td>\n      <td>7.0</td>\n      <td>7.0</td>\n      <td>8.0</td>\n      <td>...</td>\n      <td>7.0</td>\n      <td>7.0</td>\n      <td>7.0</td>\n      <td>7.0</td>\n      <td>7.0</td>\n      <td>7.0</td>\n      <td>7.0</td>\n      <td>7.0</td>\n      <td>7.0</td>\n      <td>7.0</td>\n    </tr>\n    <tr>\n      <th>610</th>\n      <td>10.0</td>\n      <td>7.0</td>\n      <td>7.0</td>\n      <td>7.0</td>\n      <td>7.0</td>\n      <td>10.0</td>\n      <td>7.0</td>\n      <td>7.0</td>\n      <td>7.0</td>\n      <td>7.0</td>\n      <td>...</td>\n      <td>7.0</td>\n      <td>7.0</td>\n      <td>7.0</td>\n      <td>7.0</td>\n      <td>7.0</td>\n      <td>7.0</td>\n      <td>7.0</td>\n      <td>7.0</td>\n      <td>7.0</td>\n      <td>7.0</td>\n    </tr>\n  </tbody>\n</table>\n<p>610 rows × 9724 columns</p>\n</div>"
     },
     "execution_count": 57,
     "metadata": {},
     "output_type": "execute_result"
    }
   ],
   "source": [
    "# wczytujemy oceny uzytkownikow i obliczamy (za pomoc dekompozycji macierzy) wszystkie przewidywane oceny filmow\n",
    "\n",
    "def read_ratings(path, k=600, scale_factor=2.0, print_stats=True):\n",
    "    # idea: https://www.kaggle.com/code/indralin/movielens-project-1-2-collaborative-filtering\n",
    "    reviews = pd.read_csv(f'{path}/ratings.csv', names=['userId', 'movieId', 'rating', 'time'], delimiter=',', engine='python', skiprows=1)\n",
    "    \n",
    "    reviews.drop(['time'], axis=1, inplace=True)\n",
    "    reviews_no, _ = reviews.shape\n",
    "    reviews_matrix = reviews.pivot(index='userId', columns='movieId', values='rating')\n",
    "    movies = reviews_matrix.columns\n",
    "    users = reviews_matrix.index\n",
    "    users_no, movies_no = reviews_matrix.shape\n",
    "    print(f'Got {reviews_no} reviews for {movies_no} movies and {users_no} users.')\n",
    "\n",
    "    user_ratings_mean = np.nanmean(reviews_matrix.values, axis=1)\n",
    "    normalized_reviews_matrix = np.nan_to_num(reviews_matrix.values - user_ratings_mean.reshape(-1, 1), 0.0)\n",
    "\n",
    "    U, sigma, Vt = svds(normalized_reviews_matrix, k=k)\n",
    "    sigma = np.diag(sigma)\n",
    "    predicted_ratings = np.dot(np.dot(U, sigma), Vt) + user_ratings_mean.reshape(-1, 1).clip(0.5, 5.0)\n",
    "    mean_square_error = np.nanmean(np.square(predicted_ratings - reviews_matrix.values))\n",
    "    std_square_error = np.nanstd(np.square(predicted_ratings - reviews_matrix.values))\n",
    "    print(f'Reviews prediction mean square error = {mean_square_error}')\n",
    "    print(f'Reviews prediction standatd deviation of square error = {std_square_error}')\n",
    "\n",
    "    if print_stats:\n",
    "        stats = [\n",
    "            ('metric', 'dataset', 'prediction'),\n",
    "            ('avg', np.nanmean(reviews_matrix), np.mean(predicted_ratings)),\n",
    "            ('st_dev', np.nanstd(reviews_matrix), np.std(predicted_ratings)),\n",
    "            ('median', np.nanmedian(reviews_matrix), np.median(predicted_ratings)),\n",
    "            ('p25', np.nanquantile(reviews_matrix, 0.25), np.quantile(predicted_ratings, 0.25)),\n",
    "            ('p75', np.nanquantile(reviews_matrix, 0.75), np.quantile(predicted_ratings, 0.75))\n",
    "        ]\n",
    "        print('Stats (for raings in original range [0.5, 5.0]):')\n",
    "        print('\\n'.join([str(s) for s in stats]))\n",
    "\n",
    "    rounded_predictions = np.rint(scale_factor * predicted_ratings) # cast values to {1, 2, ..., 10}\n",
    "    return pd.DataFrame(data=rounded_predictions, index=list(users), columns=list(movies))\n",
    "    \n",
    "ratings = read_ratings(PATH)\n",
    "# dostep do danych:\n",
    "# ratings[movieId][userId] pobiera 1 wartosc\n",
    "# ratings.loc[:, movieId] pobiera wektor dla danego filmu\n",
    "# ratings.loc[userId, :] pobiera wektor dla danego uzytkownika\n",
    "ratings"
   ]
  },
  {
   "cell_type": "code",
   "execution_count": 58,
   "metadata": {
    "ExecuteTime": {
     "end_time": "2024-11-20T11:08:46.533919Z",
     "start_time": "2024-11-20T11:08:46.512833Z"
    }
   },
   "outputs": [
    {
     "data": {
      "text/plain": "                                             title  \\\nmovieId                                              \n1                                 Toy Story (1995)   \n2                                   Jumanji (1995)   \n3                          Grumpier Old Men (1995)   \n4                         Waiting to Exhale (1995)   \n5               Father of the Bride Part II (1995)   \n...                                            ...   \n193581   Black Butler: Book of the Atlantic (2017)   \n193583                No Game No Life: Zero (2017)   \n193585                                Flint (2017)   \n193587         Bungo Stray Dogs: Dead Apple (2018)   \n193609         Andrew Dice Clay: Dice Rules (1991)   \n\n                                              genres  \nmovieId                                               \n1        Adventure|Animation|Children|Comedy|Fantasy  \n2                         Adventure|Children|Fantasy  \n3                                     Comedy|Romance  \n4                               Comedy|Drama|Romance  \n5                                             Comedy  \n...                                              ...  \n193581               Action|Animation|Comedy|Fantasy  \n193583                      Animation|Comedy|Fantasy  \n193585                                         Drama  \n193587                              Action|Animation  \n193609                                        Comedy  \n\n[9742 rows x 2 columns]",
      "text/html": "<div>\n<style scoped>\n    .dataframe tbody tr th:only-of-type {\n        vertical-align: middle;\n    }\n\n    .dataframe tbody tr th {\n        vertical-align: top;\n    }\n\n    .dataframe thead th {\n        text-align: right;\n    }\n</style>\n<table border=\"1\" class=\"dataframe\">\n  <thead>\n    <tr style=\"text-align: right;\">\n      <th></th>\n      <th>title</th>\n      <th>genres</th>\n    </tr>\n    <tr>\n      <th>movieId</th>\n      <th></th>\n      <th></th>\n    </tr>\n  </thead>\n  <tbody>\n    <tr>\n      <th>1</th>\n      <td>Toy Story (1995)</td>\n      <td>Adventure|Animation|Children|Comedy|Fantasy</td>\n    </tr>\n    <tr>\n      <th>2</th>\n      <td>Jumanji (1995)</td>\n      <td>Adventure|Children|Fantasy</td>\n    </tr>\n    <tr>\n      <th>3</th>\n      <td>Grumpier Old Men (1995)</td>\n      <td>Comedy|Romance</td>\n    </tr>\n    <tr>\n      <th>4</th>\n      <td>Waiting to Exhale (1995)</td>\n      <td>Comedy|Drama|Romance</td>\n    </tr>\n    <tr>\n      <th>5</th>\n      <td>Father of the Bride Part II (1995)</td>\n      <td>Comedy</td>\n    </tr>\n    <tr>\n      <th>...</th>\n      <td>...</td>\n      <td>...</td>\n    </tr>\n    <tr>\n      <th>193581</th>\n      <td>Black Butler: Book of the Atlantic (2017)</td>\n      <td>Action|Animation|Comedy|Fantasy</td>\n    </tr>\n    <tr>\n      <th>193583</th>\n      <td>No Game No Life: Zero (2017)</td>\n      <td>Animation|Comedy|Fantasy</td>\n    </tr>\n    <tr>\n      <th>193585</th>\n      <td>Flint (2017)</td>\n      <td>Drama</td>\n    </tr>\n    <tr>\n      <th>193587</th>\n      <td>Bungo Stray Dogs: Dead Apple (2018)</td>\n      <td>Action|Animation</td>\n    </tr>\n    <tr>\n      <th>193609</th>\n      <td>Andrew Dice Clay: Dice Rules (1991)</td>\n      <td>Comedy</td>\n    </tr>\n  </tbody>\n</table>\n<p>9742 rows × 2 columns</p>\n</div>"
     },
     "execution_count": 58,
     "metadata": {},
     "output_type": "execute_result"
    }
   ],
   "source": [
    "# wczytujemy nazwy filmow i kategorie\n",
    "\n",
    "movies_metadata = pd.read_csv('ml-latest-small/movies.csv').set_index('movieId')\n",
    "movies_metadata"
   ]
  },
  {
   "cell_type": "code",
   "execution_count": 59,
   "metadata": {
    "ExecuteTime": {
     "end_time": "2024-11-20T11:08:46.543940Z",
     "start_time": "2024-11-20T11:08:46.533919Z"
    }
   },
   "outputs": [
    {
     "data": {
      "text/plain": "[[111, 307, 474, 599, 414],\n [469, 182, 232, 448, 600],\n [508, 581, 497, 402, 566],\n [300, 515, 245, 568, 507],\n [2, 371, 252, 518, 37],\n [269, 360, 469, 287, 308],\n [243, 527, 418, 118, 370],\n [186, 559, 327, 553, 314]]"
     },
     "execution_count": 59,
     "metadata": {},
     "output_type": "execute_result"
    }
   ],
   "source": [
    "# wczytujemy przykladowe grupy uzytkownikow\n",
    "groups = pd.read_csv('groups.csv').values.tolist()\n",
    "groups"
   ]
  },
  {
   "cell_type": "code",
   "execution_count": 60,
   "metadata": {
    "ExecuteTime": {
     "end_time": "2024-11-20T11:08:46.555981Z",
     "start_time": "2024-11-20T11:08:46.544943Z"
    }
   },
   "outputs": [
    {
     "name": "stdout",
     "output_type": "stream",
     "text": [
      "\n",
      "\n",
      "User ids: [269, 360, 469, 287, 308]\n",
      "\n",
      "Mean ratings deviation: 1.1259149574579788\n",
      "Median ratings deviation: 1.0954451150103321\n",
      "Standard deviation of ratings deviation: 0.17836724055768716\n",
      "\n",
      "Best movies:\n",
      "Forrest Gump (1994), 8.2*\n",
      "Toy Story (1995), 8.2*\n",
      "Braveheart (1995), 8.0*\n",
      "Willy Wonka & the Chocolate Factory (1971), 8.0*\n",
      "Terminator 2: Judgment Day (1991), 7.8*\n",
      "Schindler's List (1993), 7.8*\n",
      "Nixon (1995), 7.6*\n",
      "Twelve Monkeys (a.k.a. 12 Monkeys) (1995), 7.6*\n",
      "Batman Begins (2005), 7.6*\n",
      "James and the Giant Peach (1996), 7.6*\n",
      "\n",
      "Worst movies:\n",
      "Broken Arrow (1996), 5.2*\n",
      "The Devil's Advocate (1997), 5.4*\n",
      "Sleepy Hollow (1999), 5.4*\n",
      "Cable Guy, The (1996), 5.4*\n",
      "Mission: Impossible (1996), 5.6*\n",
      "Nutty Professor, The (1996), 5.6*\n",
      "Matrix Revolutions, The (2003), 5.8*\n",
      "Happy Gilmore (1996), 5.8*\n",
      "D3: The Mighty Ducks (1996), 5.8*\n",
      "Cheech and Chong's Up in Smoke (1978), 5.8*\n"
     ]
    }
   ],
   "source": [
    "# przygotowujemy funkcje pomocnicza\n",
    "\n",
    "def describe_group(group, N=10):\n",
    "    print(f'\\n\\nUser ids: {group}')\n",
    "    group_size = len(group)\n",
    "    \n",
    "    mean_stdev = ratings.loc[group].std(axis=0).mean()\n",
    "    median_stdev = ratings.loc[group].std(axis=0).median()\n",
    "    std_stdev = ratings.loc[group].std(axis=0).std()\n",
    "    print(f'\\nMean ratings deviation: {mean_stdev}')\n",
    "    print(f'Median ratings deviation: {median_stdev}')\n",
    "    print(f'Standard deviation of ratings deviation: {std_stdev}')\n",
    "    \n",
    "    average_scores = ratings.iloc[group].mean(axis=0)\n",
    "    average_scores = average_scores.sort_values()\n",
    "    best_movies = [(movies_metadata['title'][movie_id], average_scores[movie_id]) for movie_id in list(average_scores[-N:].index)]\n",
    "    worst_movies = [(movies_metadata['title'][movie_id], average_scores[movie_id]) for movie_id in list(average_scores[:N].index)]\n",
    "    \n",
    "    print('\\nBest movies:')\n",
    "    for movie, score in best_movies[::-1]:\n",
    "        print(f'{movie}, {score}*')\n",
    "    print('\\nWorst movies:')\n",
    "    for movie, score in worst_movies:\n",
    "        print(f'{movie}, {score}*')\n",
    "\n",
    "describe_group(groups[5])"
   ]
  },
  {
   "cell_type": "markdown",
   "metadata": {},
   "source": [
    "## Część 2. - algorytmy proste"
   ]
  },
  {
   "cell_type": "code",
   "execution_count": 61,
   "metadata": {
    "ExecuteTime": {
     "end_time": "2024-11-20T11:08:46.559994Z",
     "start_time": "2024-11-20T11:08:46.555981Z"
    }
   },
   "outputs": [],
   "source": [
    "# zdefiniujmy interfejs dla wszystkich algorytmow rekomendacyjnych\n",
    "\n",
    "class Recommender:\n",
    "    def recommend(self, movies, ratings, group, size):\n",
    "        pass\n",
    "\n",
    "\n",
    "# jako pierwszy zaimplementujemy algorytm losowy - dla porownania\n",
    "    \n",
    "class RandomRecommender(Recommender):\n",
    "    def __init__(self):\n",
    "        self.name = 'random'\n",
    "        \n",
    "    def recommend(self, movies, ratings, group, size):\n",
    "        return sample(movies.tolist(), size)"
   ]
  },
  {
   "cell_type": "code",
   "execution_count": 62,
   "metadata": {
    "ExecuteTime": {
     "end_time": "2024-11-20T11:08:46.563005Z",
     "start_time": "2024-11-20T11:08:46.559994Z"
    }
   },
   "outputs": [],
   "source": [
    "# algorytm rekomendujacy filmy o najwyzszej sredniej ocen\n",
    "\n",
    "class AverageRecommender(Recommender):\n",
    "    def __init__(self):\n",
    "        self.name = 'average'\n",
    "    \n",
    "    def recommend(self, movies, ratings, group, size):\n",
    "        mean_ratings = ratings.loc[group].mean(axis=0)\n",
    "        return mean_ratings.sort_values(ascending=False).index[:size].tolist()"
   ]
  },
  {
   "cell_type": "code",
   "execution_count": 63,
   "metadata": {
    "ExecuteTime": {
     "end_time": "2024-11-20T11:08:46.567019Z",
     "start_time": "2024-11-20T11:08:46.563005Z"
    }
   },
   "outputs": [],
   "source": [
    "# algorytm rekomendujacy filmy o najwyzszej sredniej ocen,\n",
    "#   ale rownoczesnie wykluczajacy te filmy, ktore otrzymaly choc jedna ocene ponizej thresholdu\n",
    "\n",
    "class AverageWithoutMiseryRecommender(Recommender):\n",
    "    def __init__(self, score_threshold):\n",
    "        self.name = 'average_without_misery'\n",
    "        self.score_threshold = score_threshold\n",
    "        \n",
    "    def recommend(self, movies, ratings, group, size):\n",
    "        mean_ratings = ratings.loc[group]\n",
    "        lowest_rating = mean_ratings.min(axis=0)\n",
    "        mean_ratings = mean_ratings.loc[:, lowest_rating >= self.score_threshold].mean(axis=0)\n",
    "        return mean_ratings.sort_values(ascending=False).index[:size].tolist()"
   ]
  },
  {
   "cell_type": "code",
   "execution_count": 64,
   "metadata": {
    "ExecuteTime": {
     "end_time": "2024-11-20T11:08:46.573041Z",
     "start_time": "2024-11-20T11:08:46.568028Z"
    }
   },
   "outputs": [],
   "source": [
    "# algorytm uwzgledniajacy preferencje tylko jednego uzytkownika w kazdej iteracji\n",
    "\n",
    "class FairnessRecommender(Recommender):\n",
    "    def __init__(self):\n",
    "        self.name = 'fairness'\n",
    "        \n",
    "    def recommend(self, movies, ratings, group, size):\n",
    "        result = []\n",
    "        iter_index = 0\n",
    "        users_index = {user_id: 0 for user_id in group}\n",
    "        \n",
    "        while len(result) < size:\n",
    "            user_id = group[iter_index % len(group)]\n",
    "            best_movie = ratings.loc[user_id].sort_values(ascending=False).index[users_index[user_id]]\n",
    "            \n",
    "            if best_movie not in result:\n",
    "                result.append(int(best_movie))\n",
    "            \n",
    "            iter_index += 1\n",
    "            users_index[user_id] += 1\n",
    "            \n",
    "        return result"
   ]
  },
  {
   "cell_type": "code",
   "execution_count": 65,
   "metadata": {
    "ExecuteTime": {
     "end_time": "2024-11-20T11:08:46.579060Z",
     "start_time": "2024-11-20T11:08:46.574045Z"
    }
   },
   "outputs": [],
   "source": [
    "# wybrany algorytm wyborczy (dyktatura, Borda, Copeland)\n",
    "\n",
    "class VotingRecommender(Recommender):\n",
    "    def __init__(self, threshold):\n",
    "        self.name = 'voting'\n",
    "        self.threshold = threshold\n",
    "    \n",
    "    def recommend(self, movies, ratings, group, size):\n",
    "        votes = ratings.loc[group].map(lambda x: x >= self.threshold).sum(axis=0)\n",
    "        return votes.sort_values(ascending=False).index[:size].tolist()"
   ]
  },
  {
   "cell_type": "code",
   "execution_count": 66,
   "metadata": {
    "ExecuteTime": {
     "end_time": "2024-11-20T11:08:46.583092Z",
     "start_time": "2024-11-20T11:08:46.580063Z"
    }
   },
   "outputs": [],
   "source": [
    "# algorytm zachlanny, aproksymujacy metode Proportional Approval Voting\n",
    "#   w kazdej iteracji wybieramy ten film, ktory najbardziej zwieksza zadowolenie zgodnie z punktacja PAV\n",
    "\n",
    "class ProportionalApprovalVotingRecommender(Recommender):\n",
    "    def __init__(self, threshold):\n",
    "        self.threshold = threshold\n",
    "        self.name = 'PAV'\n",
    "        \n",
    "    def recommend(self, movies, ratings, group, size):\n",
    "        approval = {}\n",
    "        for user in group:\n",
    "            approval[user] = 0\n",
    "        result = []\n",
    "        \n",
    "        for i in range(size):\n",
    "            best_movie = None\n",
    "            best_score = 0\n",
    "            for movie in movies:\n",
    "                if movie not in ratings.axes[1] or movie in result:\n",
    "                    continue\n",
    "                score = 0\n",
    "                for user in group:\n",
    "                    if ratings.loc[user, movie] >= self.threshold:\n",
    "                        score += 1 / (approval[user] + 1)\n",
    "                if score > best_score:\n",
    "                    best_score = score\n",
    "                    best_movie = movie\n",
    "            \n",
    "            result.append(best_movie)\n",
    "                    \n",
    "            for user in group:\n",
    "                if ratings.loc[user, best_movie] >= self.threshold:\n",
    "                    approval[user] += 1\n",
    "            \n",
    "        return result"
   ]
  },
  {
   "cell_type": "markdown",
   "metadata": {},
   "source": [
    "## Część 3. - funkcje celu"
   ]
  },
  {
   "cell_type": "code",
   "execution_count": 67,
   "metadata": {
    "ExecuteTime": {
     "end_time": "2024-11-20T11:08:46.586084Z",
     "start_time": "2024-11-20T11:08:46.583092Z"
    }
   },
   "outputs": [],
   "source": [
    "# dwie funkcje pomocnicze:\n",
    "#  - znajdujaca ulubione filmy danego uzytkownika\n",
    "#  - obliczajaca sume ocen wystawionych przez uzytkownika wszystkim filmom w rekomendacji\n",
    "\n",
    "def top_n_movies_for_user(ratings, movies, user_id, n):\n",
    "    return ratings.loc[user_id].sort_values(ascending=False).index[:n].tolist()\n",
    "\n",
    "def total_score(recommendation, user_id, ratings):\n",
    "    return ratings.loc[user_id, recommendation].sum()"
   ]
  },
  {
   "cell_type": "code",
   "execution_count": 68,
   "metadata": {
    "ExecuteTime": {
     "end_time": "2024-11-20T11:08:46.590098Z",
     "start_time": "2024-11-20T11:08:46.586084Z"
    }
   },
   "outputs": [],
   "source": [
    "# funkcja obliczajaca zadowolenie pojedynczego uzytkownika\n",
    "#  - iloraz zadowolenia z wygenerowanej rekomendacji oraz zadowolenia z hipotetycznej rekomendacji idealnej\n",
    "def overall_user_satisfaction(recommendation, user_id, movies, ratings):\n",
    "    return total_score(recommendation, user_id, ratings) / total_score(top_n_movies_for_user(ratings, movies, user_id, len(recommendation)), user_id, ratings)\n",
    "\n",
    "# funkcja celu - srednia z zadowolenia wszystkich uzytkownikow w grupie\n",
    "def overall_group_satisfaction(recommendation, group, movies, ratings):\n",
    "    return mean([overall_user_satisfaction(recommendation, user_id, movies, ratings) for user_id in group])\n",
    "\n",
    "# funkcja celu - roznica miedzy maksymalnym i minimalnym zadowolenie w grupie\n",
    "def group_disagreement(recommendation, group, movies, ratings):\n",
    "    approval = [overall_user_satisfaction(recommendation, user_id, movies, ratings) for user_id in group]\n",
    "    return max(approval) - min(approval)"
   ]
  },
  {
   "cell_type": "markdown",
   "metadata": {},
   "source": [
    "## Część 4. - Sequential Hybrid Aggregation"
   ]
  },
  {
   "cell_type": "code",
   "execution_count": 69,
   "metadata": {
    "ExecuteTime": {
     "end_time": "2024-11-20T11:08:46.595115Z",
     "start_time": "2024-11-20T11:08:46.590098Z"
    }
   },
   "outputs": [],
   "source": [
    "# algorytm balansujacy pomiedzy wyborem elementow o najwyzszej sredniej ocen\n",
    "#   i o najwyzszej minimalnej ocenie\n",
    "#   wyliczajacy w kazdej iteracji parametr alfa - jak na wykladzie\n",
    "class SequentialHybridAggregationRecommender(Recommender):\n",
    "    def __init__(self):\n",
    "        self.name = 'sequential_hybrid_aggregation'\n",
    "    \n",
    "    def recommend(self, movies, ratings, group, size):\n",
    "        result = []\n",
    "        while len(result) < size:\n",
    "            alpha = group_disagreement(result, group, movies, ratings) if len(result) > 0 else 0\n",
    "            \n",
    "            best_movie = None\n",
    "            best_score = 0\n",
    "            for movie in movies:\n",
    "                if movie not in ratings.axes[1] or movie in result:\n",
    "                    continue\n",
    "                score = (1 - alpha) * ratings.loc[group, movie].mean() + alpha * ratings.loc[group, movie].min()\n",
    "                if score > best_score:\n",
    "                    if movie not in result:\n",
    "                        best_score = score\n",
    "                        best_movie = movie\n",
    "                    \n",
    "            result.append(best_movie)\n",
    "        return result"
   ]
  },
  {
   "cell_type": "markdown",
   "metadata": {},
   "source": [
    "## Część 5. - porównanie algorytmów"
   ]
  },
  {
   "cell_type": "code",
   "execution_count": 70,
   "metadata": {
    "scrolled": true,
    "ExecuteTime": {
     "end_time": "2024-11-20T11:11:51.920258Z",
     "start_time": "2024-11-20T11:08:57.812205Z"
    }
   },
   "outputs": [
    {
     "name": "stdout",
     "output_type": "stream",
     "text": [
      "\n",
      "\n",
      "random\n",
      "\n",
      "Group: [111, 307, 474, 599, 414]\n",
      "Recommendation: [2952, 1302, 7756, 2492, 72874, 4220, 1881, 7208, 1283, 45]\n",
      "Overall group satisfaction: 0.64\n",
      "Group disagreement: 0.21999999999999997\n",
      "\n",
      "Group: [469, 182, 232, 448, 600]\n",
      "Recommendation: [100383, 3792, 1292, 4078, 694, 63479, 80834, 6477, 84273, 981]\n",
      "Overall group satisfaction: 0.6679999999999999\n",
      "Group disagreement: 0.13\n",
      "\n",
      "Group: [508, 581, 497, 402, 566]\n",
      "Recommendation: [507, 46855, 112175, 8093, 5334, 1131, 4504, 160565, 37739, 48416]\n",
      "Overall group satisfaction: 0.7589003436426117\n",
      "Group disagreement: 0.26116838487972516\n",
      "\n",
      "Group: [300, 515, 245, 568, 507]\n",
      "Recommendation: [140301, 141820, 5247, 7924, 5614, 111384, 9005, 7707, 4499, 2606]\n",
      "Overall group satisfaction: 0.8697804576376005\n",
      "Group disagreement: 0.24242424242424243\n",
      "\n",
      "Group: [2, 371, 252, 518, 37]\n",
      "Recommendation: [6014, 7017, 47610, 7366, 3345, 1289, 95875, 122246, 6780, 169958]\n",
      "Overall group satisfaction: 0.8287528344671202\n",
      "Group disagreement: 0.12222222222222223\n",
      "\n",
      "Group: [269, 360, 469, 287, 308]\n",
      "Recommendation: [5922, 429, 7206, 126142, 2558, 74647, 168254, 103624, 302, 55721]\n",
      "Overall group satisfaction: 0.6384126984126984\n",
      "Group disagreement: 0.2777777777777778\n",
      "\n",
      "Group: [243, 527, 418, 118, 370]\n",
      "Recommendation: [74795, 7395, 6269, 5881, 920, 32017, 4235, 3794, 53464, 917]\n",
      "Overall group satisfaction: 0.7916643356643357\n",
      "Group disagreement: 0.2090909090909091\n",
      "\n",
      "Group: [186, 559, 327, 553, 314]\n",
      "Recommendation: [71668, 27320, 159069, 694, 96655, 80572, 8870, 2847, 26225, 1959]\n",
      "Overall group satisfaction: 0.765\n",
      "Group disagreement: 0.275\n",
      "\n",
      "\n",
      "average\n",
      "\n",
      "Group: [111, 307, 474, 599, 414]\n",
      "Recommendation: [318, 2959, 3160, 858, 3897, 4878, 1221, 4226, 296, 2329]\n",
      "Overall group satisfaction: 0.886\n",
      "Group disagreement: 0.22999999999999998\n",
      "\n",
      "Group: [469, 182, 232, 448, 600]\n",
      "Recommendation: [296, 858, 1206, 2968, 2858, 1230, 1136, 1073, 2997, 1196]\n",
      "Overall group satisfaction: 0.894\n",
      "Group disagreement: 0.22999999999999998\n",
      "\n",
      "Group: [508, 581, 497, 402, 566]\n",
      "Recommendation: [1222, 1270, 7361, 527, 2012, 2011, 110, 356, 17, 265]\n",
      "Overall group satisfaction: 0.8590240549828179\n",
      "Group disagreement: 0.2366666666666667\n",
      "\n",
      "Group: [300, 515, 245, 568, 507]\n",
      "Recommendation: [3114, 377, 1189, 246, 34, 2313, 356, 2863, 1103, 1104]\n",
      "Overall group satisfaction: 0.9329613481756339\n",
      "Group disagreement: 0.10999999999999999\n",
      "\n",
      "Group: [2, 371, 252, 518, 37]\n",
      "Recommendation: [6377, 2289, 364, 134853, 6365, 2321, 150, 3897, 162578, 593]\n",
      "Overall group satisfaction: 0.8793242630385487\n",
      "Group disagreement: 0.08503401360544216\n",
      "\n",
      "Group: [269, 360, 469, 287, 308]\n",
      "Recommendation: [1197, 1136, 8368, 5618, 1968, 471, 608, 441, 1617, 1527]\n",
      "Overall group satisfaction: 0.7845351473922902\n",
      "Group disagreement: 0.2899999999999999\n",
      "\n",
      "Group: [243, 527, 418, 118, 370]\n",
      "Recommendation: [2959, 7153, 296, 5952, 4993, 778, 50, 7361, 593, 4878]\n",
      "Overall group satisfaction: 0.8912247752247752\n",
      "Group disagreement: 0.167032967032967\n",
      "\n",
      "Group: [186, 559, 327, 553, 314]\n",
      "Recommendation: [318, 589, 260, 924, 356, 1265, 6, 647, 11, 497]\n",
      "Overall group satisfaction: 0.8736666666666667\n",
      "Group disagreement: 0.14833333333333332\n",
      "\n",
      "\n",
      "average_without_misery\n",
      "\n",
      "Group: [111, 307, 474, 599, 414]\n",
      "Recommendation: [318, 2959, 4226, 858, 3897, 4878, 1221, 3160, 296, 1089]\n",
      "Overall group satisfaction: 0.886\n",
      "Group disagreement: 0.22999999999999998\n",
      "\n",
      "Group: [469, 182, 232, 448, 600]\n",
      "Recommendation: [296, 858, 2968, 1206, 1073, 2997, 1230, 2858, 1136, 2959]\n",
      "Overall group satisfaction: 0.894\n",
      "Group disagreement: 0.19999999999999996\n",
      "\n",
      "Group: [508, 581, 497, 402, 566]\n",
      "Recommendation: [1270, 1222, 2011, 2012, 671, 562]\n",
      "Overall group satisfaction: 0.82\n",
      "Group disagreement: 0.30000000000000004\n",
      "\n",
      "Group: [300, 515, 245, 568, 507]\n",
      "Recommendation: [246, 1189, 3114, 377, 34, 1298, 2863, 1103, 1104, 356]\n",
      "Overall group satisfaction: 0.9329613481756339\n",
      "Group disagreement: 0.10999999999999999\n",
      "\n",
      "Group: [2, 371, 252, 518, 37]\n",
      "Recommendation: [6377, 2289, 131724, 134853, 162578, 164179, 364, 150, 6333, 296]\n",
      "Overall group satisfaction: 0.8792687074829932\n",
      "Group disagreement: 0.0642006802721089\n",
      "\n",
      "Group: [269, 360, 469, 287, 308]\n",
      "Recommendation: [1197, 1136, 8368, 1968, 471, 441, 5618, 608, 1617, 2997]\n",
      "Overall group satisfaction: 0.7845351473922902\n",
      "Group disagreement: 0.2899999999999999\n",
      "\n",
      "Group: [243, 527, 418, 118, 370]\n",
      "Recommendation: [2959, 296, 5952, 7153, 778, 4993, 3147, 593, 1961, 4878]\n",
      "Overall group satisfaction: 0.8911768231768232\n",
      "Group disagreement: 0.13406593406593403\n",
      "\n",
      "Group: [186, 559, 327, 553, 314]\n",
      "Recommendation: [318, 260, 589, 924, 356, 527, 6, 11, 647, 1265]\n",
      "Overall group satisfaction: 0.8736666666666667\n",
      "Group disagreement: 0.14833333333333332\n",
      "\n",
      "\n",
      "fairness\n",
      "\n",
      "Group: [111, 307, 474, 599, 414]\n",
      "Recommendation: [3275, 663, 3044, 1089, 356, 131013, 3897, 36, 1210, 1784]\n",
      "Overall group satisfaction: 0.76\n",
      "Group disagreement: 0.18999999999999995\n",
      "\n",
      "Group: [469, 182, 232, 448, 600]\n",
      "Recommendation: [3507, 1199, 4226, 1, 2194, 1279, 69757, 3681, 4642, 3147]\n",
      "Overall group satisfaction: 0.782\n",
      "Group disagreement: 0.17000000000000004\n",
      "\n",
      "Group: [508, 581, 497, 402, 566]\n",
      "Recommendation: [1270, 4896, 2762, 377, 17, 1222, 527, 1193, 165, 356]\n",
      "Overall group satisfaction: 0.8343573883161512\n",
      "Group disagreement: 0.18845360824742263\n",
      "\n",
      "Group: [300, 515, 245, 568, 507]\n",
      "Recommendation: [2858, 193609, 246, 356, 377, 527, 1, 1189, 2863, 34]\n",
      "Overall group satisfaction: 0.9156255411255412\n",
      "Group disagreement: 0.1515151515151515\n",
      "\n",
      "Group: [2, 371, 252, 518, 37]\n",
      "Recommendation: [60756, 1199, 364, 6377, 344, 80906, 1274, 2321, 2289, 1061]\n",
      "Overall group satisfaction: 0.874827664399093\n",
      "Group disagreement: 0.0755555555555556\n",
      "\n",
      "Group: [269, 360, 469, 287, 308]\n",
      "Recommendation: [1, 1747, 3507, 4973, 8368, 74, 1625, 2194, 8949, 56367]\n",
      "Overall group satisfaction: 0.7239909297052154\n",
      "Group disagreement: 0.24444444444444446\n",
      "\n",
      "Group: [243, 527, 418, 118, 370]\n",
      "Recommendation: [353, 2471, 1704, 1221, 296, 112, 919, 1220, 1213, 2959]\n",
      "Overall group satisfaction: 0.844953046953047\n",
      "Group disagreement: 0.17432567432567436\n",
      "\n",
      "Group: [186, 559, 327, 553, 314]\n",
      "Recommendation: [2664, 1527, 4388, 3897, 527, 4321, 1580, 231, 1729, 924]\n",
      "Overall group satisfaction: 0.8136666666666666\n",
      "Group disagreement: 0.19166666666666665\n",
      "\n",
      "\n",
      "voting\n",
      "\n",
      "Group: [111, 307, 474, 599, 414]\n",
      "Recommendation: [193609, 1, 2, 193587, 4, 193585, 6, 7, 8, 193583]\n",
      "Overall group satisfaction: 0.626\n",
      "Group disagreement: 0.16999999999999993\n",
      "\n",
      "Group: [469, 182, 232, 448, 600]\n",
      "Recommendation: [193609, 1, 2, 3, 193587, 5, 6, 7, 8, 9]\n",
      "Overall group satisfaction: 0.6779999999999999\n",
      "Group disagreement: 0.12\n",
      "\n",
      "Group: [508, 581, 497, 402, 566]\n",
      "Recommendation: [562, 1222, 1270, 2011, 671, 2012, 1, 2, 3, 4]\n",
      "Overall group satisfaction: 0.8235670103092784\n",
      "Group disagreement: 0.31999999999999995\n",
      "\n",
      "Group: [300, 515, 245, 568, 507]\n",
      "Recommendation: [193609, 1, 2, 3, 4, 5, 6, 7, 8, 9]\n",
      "Overall group satisfaction: 0.8697804576376005\n",
      "Group disagreement: 0.24242424242424243\n",
      "\n",
      "Group: [2, 371, 252, 518, 37]\n",
      "Recommendation: [193609, 1, 2, 3, 4, 5, 6, 7, 8, 9]\n",
      "Overall group satisfaction: 0.8307936507936509\n",
      "Group disagreement: 0.12222222222222223\n",
      "\n",
      "Group: [269, 360, 469, 287, 308]\n",
      "Recommendation: [193609, 1, 2, 193587, 4, 5, 193585, 7, 8, 193583]\n",
      "Overall group satisfaction: 0.6468571428571429\n",
      "Group disagreement: 0.30000000000000004\n",
      "\n",
      "Group: [243, 527, 418, 118, 370]\n",
      "Recommendation: [193609, 1, 2, 3, 4, 5, 6, 7, 8, 9]\n",
      "Overall group satisfaction: 0.7956643356643357\n",
      "Group disagreement: 0.2090909090909091\n",
      "\n",
      "Group: [186, 559, 327, 553, 314]\n",
      "Recommendation: [193609, 1, 2, 3, 4, 5, 6, 7, 8, 9]\n",
      "Overall group satisfaction: 0.7851666666666667\n",
      "Group disagreement: 0.26416666666666666\n",
      "\n",
      "\n",
      "PAV\n",
      "\n",
      "Group: [111, 307, 474, 599, 414]\n",
      "Recommendation: [1, 2, 4, 6, 7, 8, 10, 11, 13, 14]\n",
      "Overall group satisfaction: 0.628\n",
      "Group disagreement: 0.16999999999999993\n",
      "\n",
      "Group: [469, 182, 232, 448, 600]\n",
      "Recommendation: [1, 2, 3, 5, 6, 7, 8, 9, 11, 13]\n",
      "Overall group satisfaction: 0.6759999999999999\n",
      "Group disagreement: 0.12\n",
      "\n",
      "Group: [508, 581, 497, 402, 566]\n",
      "Recommendation: [562, 671, 1222, 1270, 2011, 2012, 1, 2, 3, 4]\n",
      "Overall group satisfaction: 0.8235670103092784\n",
      "Group disagreement: 0.31999999999999995\n",
      "\n",
      "Group: [300, 515, 245, 568, 507]\n",
      "Recommendation: [1, 2, 3, 4, 5, 6, 7, 8, 9, 10]\n",
      "Overall group satisfaction: 0.8697804576376005\n",
      "Group disagreement: 0.24242424242424243\n",
      "\n",
      "Group: [2, 371, 252, 518, 37]\n",
      "Recommendation: [1, 2, 3, 4, 5, 6, 7, 8, 9, 10]\n",
      "Overall group satisfaction: 0.8307936507936509\n",
      "Group disagreement: 0.12222222222222223\n",
      "\n",
      "Group: [269, 360, 469, 287, 308]\n",
      "Recommendation: [1, 2, 4, 5, 7, 8, 11, 12, 13, 14]\n",
      "Overall group satisfaction: 0.6448571428571429\n",
      "Group disagreement: 0.30000000000000004\n",
      "\n",
      "Group: [243, 527, 418, 118, 370]\n",
      "Recommendation: [1, 2, 3, 4, 5, 6, 7, 8, 9, 10]\n",
      "Overall group satisfaction: 0.7996643356643357\n",
      "Group disagreement: 0.2090909090909091\n",
      "\n",
      "Group: [186, 559, 327, 553, 314]\n",
      "Recommendation: [1, 2, 3, 4, 5, 6, 7, 8, 9, 10]\n",
      "Overall group satisfaction: 0.7831666666666667\n",
      "Group disagreement: 0.26416666666666666\n",
      "\n",
      "\n",
      "sequential_hybrid_aggregation\n",
      "\n",
      "Group: [111, 307, 474, 599, 414]\n",
      "Recommendation: [318, 2959, 296, 858, 1221, 3160, 3897, 4226, 4878, 1089]\n",
      "Overall group satisfaction: 0.886\n",
      "Group disagreement: 0.22999999999999998\n",
      "\n",
      "Group: [469, 182, 232, 448, 600]\n",
      "Recommendation: [296, 858, 1206, 1073, 2968, 1265, 1136, 1230, 2858, 2997]\n",
      "Overall group satisfaction: 0.894\n",
      "Group disagreement: 0.24\n",
      "\n",
      "Group: [508, 581, 497, 402, 566]\n",
      "Recommendation: [1222, 1270, 2011, 2012, 527, 7361, 11, 17, 110, 111]\n",
      "Overall group satisfaction: 0.8590240549828179\n",
      "Group disagreement: 0.20666666666666667\n",
      "\n",
      "Group: [300, 515, 245, 568, 507]\n",
      "Recommendation: [34, 246, 1189, 3114, 377, 162, 581, 745, 912, 1148]\n",
      "Overall group satisfaction: 0.927204700061843\n",
      "Group disagreement: 0.18367346938775508\n",
      "\n",
      "Group: [2, 371, 252, 518, 37]\n",
      "Recommendation: [6377, 2289, 1276, 1876, 2657, 3897, 6323, 6333, 6365, 1215]\n",
      "Overall group satisfaction: 0.8792789115646259\n",
      "Group disagreement: 0.18367346938775508\n",
      "\n",
      "Group: [269, 360, 469, 287, 308]\n",
      "Recommendation: [1136, 1197, 8368, 5618, 5952, 441, 471, 4993, 608, 1968]\n",
      "Overall group satisfaction: 0.7824126984126984\n",
      "Group disagreement: 0.18000000000000005\n",
      "\n",
      "Group: [243, 527, 418, 118, 370]\n",
      "Recommendation: [296, 778, 2959, 4993, 5952, 7153, 50, 593, 4878, 7361]\n",
      "Overall group satisfaction: 0.8912247752247752\n",
      "Group disagreement: 0.167032967032967\n",
      "\n",
      "Group: [186, 559, 327, 553, 314]\n",
      "Recommendation: [318, 260, 589, 356, 924, 11, 497, 527, 110, 314]\n",
      "Overall group satisfaction: 0.8698333333333333\n",
      "Group disagreement: 0.17916666666666659\n"
     ]
    }
   ],
   "source": [
    "recommenders = [\n",
    "    RandomRecommender(),\n",
    "    AverageRecommender(),\n",
    "    AverageWithoutMiseryRecommender(5),\n",
    "    FairnessRecommender(),\n",
    "    VotingRecommender(5),\n",
    "    ProportionalApprovalVotingRecommender(5),\n",
    "    SequentialHybridAggregationRecommender()\n",
    "]\n",
    "\n",
    "recommendation_size = 10\n",
    "\n",
    "# dla kazdego algorytmu:\n",
    "#  - wygenerujmy jedna rekomendacje dla kazdej grupy\n",
    "#  - obliczmy wartosci obu funkcji celu dla kazdej rekomendacji\n",
    "#  - wypiszmy wyniki na konsole\n",
    "\n",
    "for recommender in recommenders:\n",
    "    print(f'\\n\\n{recommender.name}')\n",
    "    for group in groups:\n",
    "        recommendation = recommender.recommend(movies_metadata.index, ratings, group, recommendation_size)\n",
    "        print(f'\\nGroup: {group}')\n",
    "        print(f'Recommendation: {recommendation}')\n",
    "        print(f'Overall group satisfaction: {overall_group_satisfaction(recommendation, group, movies_metadata.index, ratings)}')\n",
    "        print(f'Group disagreement: {group_disagreement(recommendation, group, movies_metadata.index, ratings)}')"
   ]
  },
  {
   "cell_type": "code",
   "outputs": [],
   "source": [],
   "metadata": {
    "collapsed": false
   }
  }
 ],
 "metadata": {
  "kernelspec": {
   "display_name": "Python 3 (ipykernel)",
   "language": "python",
   "name": "python3"
  },
  "language_info": {
   "codemirror_mode": {
    "name": "ipython",
    "version": 3
   },
   "file_extension": ".py",
   "mimetype": "text/x-python",
   "name": "python",
   "nbconvert_exporter": "python",
   "pygments_lexer": "ipython3",
   "version": "3.9.6"
  }
 },
 "nbformat": 4,
 "nbformat_minor": 4
}
